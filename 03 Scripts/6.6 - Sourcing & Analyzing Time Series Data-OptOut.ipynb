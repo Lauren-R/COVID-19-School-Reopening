{
 "cells": [
  {
   "cell_type": "markdown",
   "id": "3b871945",
   "metadata": {},
   "source": [
    "# 6.6: Sourcing & Analyzing Time Series Data - optout"
   ]
  },
  {
   "cell_type": "markdown",
   "id": "555a1a71",
   "metadata": {},
   "source": [
    "## Contents:\n",
    "### 01. Import libraries and data\n",
    "### 02. Data cleaning\n",
    "### 03. Create line charts\n",
    "### 04. Time series analysis: decomposition\n",
    "### 05. Dickey-Fuller test to check for stationarity\n",
    "### 06. Check autocorrelations"
   ]
  },
  {
   "cell_type": "markdown",
   "id": "364c8211",
   "metadata": {},
   "source": [
    "## 01. Import libraries and data"
   ]
  },
  {
   "cell_type": "code",
   "execution_count": 73,
   "id": "9a1b201c",
   "metadata": {},
   "outputs": [],
   "source": [
    "# Import libraries\n",
    "\n",
    "import pandas as pd\n",
    "import numpy as np\n",
    "import seaborn as sns\n",
    "import matplotlib\n",
    "import matplotlib.pyplot as plt\n",
    "import statsmodels.api as sm # Using .api imports the public access version of statsmodels, which is a library that handles \n",
    "# statistical models.\n",
    "import os\n",
    "import warnings # This is a library that handles warnings.\n",
    "\n",
    "warnings.filterwarnings(\"ignore\") # Disable deprecation warnings that could indicate, for instance, a suspended library or \n",
    "# feature. These are more relevant to developers and very seldom to analysts.\n",
    "\n",
    "plt.style.use('fivethirtyeight') # This is a styling option for how your plots will appear. More examples here:\n",
    "# https://matplotlib.org/3.2.1/tutorials/introductory/customizing.html\n",
    "# https://matplotlib.org/3.1.0/gallery/style_sheets/fivethirtyeight.html"
   ]
  },
  {
   "cell_type": "code",
   "execution_count": 74,
   "id": "2694594b",
   "metadata": {},
   "outputs": [],
   "source": [
    "path = r'C:\\Users\\lrutl\\OneDrive\\Desktop\\Advanced Analytics & Dashboard Design\\COVID19 School ReOpening and Students'"
   ]
  },
  {
   "cell_type": "code",
   "execution_count": 75,
   "id": "20de8163",
   "metadata": {},
   "outputs": [],
   "source": [
    "# Import data\n",
    "\n",
    "df = pd.read_csv(os.path.join(path, '02 Data','Prepared data','sf_rc_merged_v2.csv'))"
   ]
  },
  {
   "cell_type": "markdown",
   "id": "05580a0f",
   "metadata": {},
   "source": [
    "## 02. Data cleaning"
   ]
  },
  {
   "cell_type": "code",
   "execution_count": 76,
   "id": "62350bc7",
   "metadata": {},
   "outputs": [
    {
     "name": "stdout",
     "output_type": "stream",
     "text": [
      "<class 'pandas.core.frame.DataFrame'>\n",
      "RangeIndex: 5126 entries, 0 to 5125\n",
      "Data columns (total 61 columns):\n",
      " #   Column                                   Non-Null Count  Dtype  \n",
      "---  ------                                   --------------  -----  \n",
      " 0   Unnamed: 0                               5126 non-null   int64  \n",
      " 1   Week                                     5126 non-null   object \n",
      " 2   DistrictName                             5126 non-null   object \n",
      " 3   Model_Elementary                         5116 non-null   object \n",
      " 4   Model_Middle                             5101 non-null   object \n",
      " 5   Model_High                               5073 non-null   object \n",
      " 6   GradeLevels_Remote_Phasein               898 non-null    object \n",
      " 7   StudentGroups_Remote_Phasein             998 non-null    object \n",
      " 8   Other_Remote_Phasein                     248 non-null    object \n",
      " 9   Enrollment_Elementary                    5126 non-null   int64  \n",
      " 10  FullTimeALE_Elementary                   5126 non-null   int64  \n",
      " 11  OptOut_Elementary                        5126 non-null   int64  \n",
      " 12  TypicalInPerson_Elementary               5126 non-null   int64  \n",
      " 13  Weekly_Elementary                        5126 non-null   int64  \n",
      " 14  Enrollment_Middle                        5126 non-null   int64  \n",
      " 15  FullTimeALE_Middle                       5126 non-null   int64  \n",
      " 16  OptOut_Middle                            5126 non-null   int64  \n",
      " 17  TypicalInPerson_Middle                   5126 non-null   int64  \n",
      " 18  Weekly_Middle                            5126 non-null   int64  \n",
      " 19  Enrollment_High                          5126 non-null   int64  \n",
      " 20  FullTimeALE_High                         5126 non-null   int64  \n",
      " 21  OptOut_High                              5126 non-null   int64  \n",
      " 22  TypicalInPerson_High                     5126 non-null   int64  \n",
      " 23  Weekly_High                              5126 non-null   int64  \n",
      " 24  Sum of Enrollment                        5126 non-null   int64  \n",
      " 25  Sum of OptOut                            5126 non-null   int64  \n",
      " 26  OrganizationLevel                        5126 non-null   object \n",
      " 27  County                                   5126 non-null   object \n",
      " 28  All Students                             5126 non-null   int64  \n",
      " 29  Female                                   5126 non-null   int64  \n",
      " 30  Gender X                                 5126 non-null   int64  \n",
      " 31  Male                                     5126 non-null   int64  \n",
      " 32  American Indian/ Alaskan Native          5126 non-null   int64  \n",
      " 33  Asian                                    5126 non-null   int64  \n",
      " 34  Black/ African American                  5126 non-null   int64  \n",
      " 35  Hispanic/ Latino of any race(s)          5126 non-null   int64  \n",
      " 36  Native Hawaiian/ Other Pacific Islander  5126 non-null   int64  \n",
      " 37  Two or More Races                        5126 non-null   int64  \n",
      " 38  White                                    5126 non-null   int64  \n",
      " 39  English Language Learners                5126 non-null   int64  \n",
      " 40  Highly Capable                           5126 non-null   int64  \n",
      " 41  Homeless                                 5126 non-null   int64  \n",
      " 42  Low-Income                               5126 non-null   int64  \n",
      " 43  Migrant                                  5126 non-null   int64  \n",
      " 44  Military Parent                          5126 non-null   int64  \n",
      " 45  Mobile                                   5126 non-null   int64  \n",
      " 46  Section 504                              5126 non-null   int64  \n",
      " 47  Students with Disabilities               5126 non-null   int64  \n",
      " 48  Non-English Language Learners            5126 non-null   int64  \n",
      " 49  Non-Highly Capable                       5126 non-null   int64  \n",
      " 50  Non-Homeless                             5126 non-null   int64  \n",
      " 51  Non-Low Income                           5126 non-null   int64  \n",
      " 52  Non Migrant                              5126 non-null   int64  \n",
      " 53  Non Military Parent                      5126 non-null   int64  \n",
      " 54  Non Mobile                               5126 non-null   int64  \n",
      " 55  Non Section 504                          5126 non-null   int64  \n",
      " 56  Students without Disabilities            5126 non-null   int64  \n",
      " 57  Percent Low-income                       5126 non-null   float64\n",
      " 58  Percent Non-Low Income                   5126 non-null   float64\n",
      " 59  Percent Homeless                         5126 non-null   float64\n",
      " 60  Percent Non-Homeless                     5126 non-null   float64\n",
      "dtypes: float64(4), int64(47), object(10)\n",
      "memory usage: 2.4+ MB\n"
     ]
    }
   ],
   "source": [
    "df.info()"
   ]
  },
  {
   "cell_type": "code",
   "execution_count": 77,
   "id": "4f7f9212",
   "metadata": {},
   "outputs": [],
   "source": [
    "# Remove unnecessary columns\n",
    "\n",
    "df_time = df.filter(['Week','Sum of Enrollment','Sum of OptOut'], axis=1)"
   ]
  },
  {
   "cell_type": "code",
   "execution_count": 78,
   "id": "d22eb412",
   "metadata": {},
   "outputs": [
    {
     "data": {
      "text/html": [
       "<div>\n",
       "<style scoped>\n",
       "    .dataframe tbody tr th:only-of-type {\n",
       "        vertical-align: middle;\n",
       "    }\n",
       "\n",
       "    .dataframe tbody tr th {\n",
       "        vertical-align: top;\n",
       "    }\n",
       "\n",
       "    .dataframe thead th {\n",
       "        text-align: right;\n",
       "    }\n",
       "</style>\n",
       "<table border=\"1\" class=\"dataframe\">\n",
       "  <thead>\n",
       "    <tr style=\"text-align: right;\">\n",
       "      <th></th>\n",
       "      <th>Week</th>\n",
       "      <th>Sum of Enrollment</th>\n",
       "      <th>Sum of OptOut</th>\n",
       "    </tr>\n",
       "  </thead>\n",
       "  <tbody>\n",
       "    <tr>\n",
       "      <th>0</th>\n",
       "      <td>1/18/2021</td>\n",
       "      <td>583</td>\n",
       "      <td>0</td>\n",
       "    </tr>\n",
       "    <tr>\n",
       "      <th>1</th>\n",
       "      <td>1/25/2021</td>\n",
       "      <td>583</td>\n",
       "      <td>0</td>\n",
       "    </tr>\n",
       "    <tr>\n",
       "      <th>2</th>\n",
       "      <td>2/1/2021</td>\n",
       "      <td>583</td>\n",
       "      <td>42</td>\n",
       "    </tr>\n",
       "    <tr>\n",
       "      <th>3</th>\n",
       "      <td>2/22/2021</td>\n",
       "      <td>583</td>\n",
       "      <td>42</td>\n",
       "    </tr>\n",
       "    <tr>\n",
       "      <th>4</th>\n",
       "      <td>3/1/2021</td>\n",
       "      <td>583</td>\n",
       "      <td>40</td>\n",
       "    </tr>\n",
       "  </tbody>\n",
       "</table>\n",
       "</div>"
      ],
      "text/plain": [
       "        Week  Sum of Enrollment  Sum of OptOut\n",
       "0  1/18/2021                583              0\n",
       "1  1/25/2021                583              0\n",
       "2   2/1/2021                583             42\n",
       "3  2/22/2021                583             42\n",
       "4   3/1/2021                583             40"
      ]
     },
     "execution_count": 78,
     "metadata": {},
     "output_type": "execute_result"
    }
   ],
   "source": [
    "df_time.head()"
   ]
  },
  {
   "cell_type": "code",
   "execution_count": 79,
   "id": "44bd16e6",
   "metadata": {},
   "outputs": [
    {
     "data": {
      "text/plain": [
       "(5126, 3)"
      ]
     },
     "execution_count": 79,
     "metadata": {},
     "output_type": "execute_result"
    }
   ],
   "source": [
    "df_time.shape"
   ]
  },
  {
   "cell_type": "code",
   "execution_count": 80,
   "id": "ff116a35",
   "metadata": {},
   "outputs": [
    {
     "data": {
      "text/plain": [
       "Index(['Week', 'Sum of Enrollment', 'Sum of OptOut'], dtype='object')"
      ]
     },
     "execution_count": 80,
     "metadata": {},
     "output_type": "execute_result"
    }
   ],
   "source": [
    "df_time.columns"
   ]
  },
  {
   "cell_type": "code",
   "execution_count": 81,
   "id": "f33cb781",
   "metadata": {},
   "outputs": [],
   "source": [
    "# Create df for sum of enrollment time series\n",
    "\n",
    "df_time_optout = df_time.drop(columns = ['Sum of Enrollment'])"
   ]
  },
  {
   "cell_type": "code",
   "execution_count": 82,
   "id": "a0f6cd74",
   "metadata": {},
   "outputs": [],
   "source": [
    "# Reset index so that you can use the \"Week\" column as a filter\n",
    "\n",
    "df_time_optout = df_time_enrollment.reset_index()"
   ]
  },
  {
   "cell_type": "code",
   "execution_count": 83,
   "id": "7268b552",
   "metadata": {},
   "outputs": [
    {
     "data": {
      "text/plain": [
       "(5126, 3)"
      ]
     },
     "execution_count": 83,
     "metadata": {},
     "output_type": "execute_result"
    }
   ],
   "source": [
    "df_time_optout.shape"
   ]
  },
  {
   "cell_type": "code",
   "execution_count": 84,
   "id": "7926cf87",
   "metadata": {},
   "outputs": [
    {
     "data": {
      "text/html": [
       "<div>\n",
       "<style scoped>\n",
       "    .dataframe tbody tr th:only-of-type {\n",
       "        vertical-align: middle;\n",
       "    }\n",
       "\n",
       "    .dataframe tbody tr th {\n",
       "        vertical-align: top;\n",
       "    }\n",
       "\n",
       "    .dataframe thead th {\n",
       "        text-align: right;\n",
       "    }\n",
       "</style>\n",
       "<table border=\"1\" class=\"dataframe\">\n",
       "  <thead>\n",
       "    <tr style=\"text-align: right;\">\n",
       "      <th></th>\n",
       "      <th>index</th>\n",
       "      <th>Week</th>\n",
       "      <th>Sum of OptOut</th>\n",
       "    </tr>\n",
       "  </thead>\n",
       "  <tbody>\n",
       "    <tr>\n",
       "      <th>0</th>\n",
       "      <td>0</td>\n",
       "      <td>1/18/2021</td>\n",
       "      <td>0</td>\n",
       "    </tr>\n",
       "    <tr>\n",
       "      <th>1</th>\n",
       "      <td>1</td>\n",
       "      <td>1/25/2021</td>\n",
       "      <td>0</td>\n",
       "    </tr>\n",
       "    <tr>\n",
       "      <th>2</th>\n",
       "      <td>2</td>\n",
       "      <td>2/1/2021</td>\n",
       "      <td>42</td>\n",
       "    </tr>\n",
       "    <tr>\n",
       "      <th>3</th>\n",
       "      <td>3</td>\n",
       "      <td>2/22/2021</td>\n",
       "      <td>42</td>\n",
       "    </tr>\n",
       "    <tr>\n",
       "      <th>4</th>\n",
       "      <td>4</td>\n",
       "      <td>3/1/2021</td>\n",
       "      <td>40</td>\n",
       "    </tr>\n",
       "  </tbody>\n",
       "</table>\n",
       "</div>"
      ],
      "text/plain": [
       "   index       Week  Sum of OptOut\n",
       "0      0  1/18/2021              0\n",
       "1      1  1/25/2021              0\n",
       "2      2   2/1/2021             42\n",
       "3      3  2/22/2021             42\n",
       "4      4   3/1/2021             40"
      ]
     },
     "execution_count": 84,
     "metadata": {},
     "output_type": "execute_result"
    }
   ],
   "source": [
    "df_time_optout.head()"
   ]
  },
  {
   "cell_type": "code",
   "execution_count": 85,
   "id": "79daeca5",
   "metadata": {},
   "outputs": [
    {
     "data": {
      "text/plain": [
       "Index(['index', 'Week', 'Sum of OptOut'], dtype='object')"
      ]
     },
     "execution_count": 85,
     "metadata": {},
     "output_type": "execute_result"
    }
   ],
   "source": [
    "df_time_optout.columns"
   ]
  },
  {
   "cell_type": "code",
   "execution_count": 86,
   "id": "e1d2222c",
   "metadata": {},
   "outputs": [],
   "source": [
    "# Reset index so that you can use the \"Date\" column as a filter\n",
    "\n",
    "df_time_optout = df_time_optout.reset_index()"
   ]
  },
  {
   "cell_type": "code",
   "execution_count": 87,
   "id": "751e5d09",
   "metadata": {},
   "outputs": [
    {
     "data": {
      "text/html": [
       "<div>\n",
       "<style scoped>\n",
       "    .dataframe tbody tr th:only-of-type {\n",
       "        vertical-align: middle;\n",
       "    }\n",
       "\n",
       "    .dataframe tbody tr th {\n",
       "        vertical-align: top;\n",
       "    }\n",
       "\n",
       "    .dataframe thead th {\n",
       "        text-align: right;\n",
       "    }\n",
       "</style>\n",
       "<table border=\"1\" class=\"dataframe\">\n",
       "  <thead>\n",
       "    <tr style=\"text-align: right;\">\n",
       "      <th></th>\n",
       "      <th>level_0</th>\n",
       "      <th>index</th>\n",
       "      <th>Sum of OptOut</th>\n",
       "    </tr>\n",
       "    <tr>\n",
       "      <th>datetime</th>\n",
       "      <th></th>\n",
       "      <th></th>\n",
       "      <th></th>\n",
       "    </tr>\n",
       "  </thead>\n",
       "  <tbody>\n",
       "    <tr>\n",
       "      <th>2021-01-18</th>\n",
       "      <td>0</td>\n",
       "      <td>0</td>\n",
       "      <td>0</td>\n",
       "    </tr>\n",
       "    <tr>\n",
       "      <th>2021-01-25</th>\n",
       "      <td>1</td>\n",
       "      <td>1</td>\n",
       "      <td>0</td>\n",
       "    </tr>\n",
       "    <tr>\n",
       "      <th>2021-02-01</th>\n",
       "      <td>2</td>\n",
       "      <td>2</td>\n",
       "      <td>42</td>\n",
       "    </tr>\n",
       "    <tr>\n",
       "      <th>2021-02-22</th>\n",
       "      <td>3</td>\n",
       "      <td>3</td>\n",
       "      <td>42</td>\n",
       "    </tr>\n",
       "    <tr>\n",
       "      <th>2021-03-01</th>\n",
       "      <td>4</td>\n",
       "      <td>4</td>\n",
       "      <td>40</td>\n",
       "    </tr>\n",
       "  </tbody>\n",
       "</table>\n",
       "</div>"
      ],
      "text/plain": [
       "            level_0  index  Sum of OptOut\n",
       "datetime                                 \n",
       "2021-01-18        0      0              0\n",
       "2021-01-25        1      1              0\n",
       "2021-02-01        2      2             42\n",
       "2021-02-22        3      3             42\n",
       "2021-03-01        4      4             40"
      ]
     },
     "execution_count": 87,
     "metadata": {},
     "output_type": "execute_result"
    }
   ],
   "source": [
    "# Set the \"Date\" column as the index\n",
    "\n",
    "from datetime import datetime\n",
    "\n",
    "df_time_optout['datetime'] = pd.to_datetime(df_time_optout['Week']) # Create a datetime column from \"Date.\"\"\n",
    "df_time_optout = df_time_optout.set_index('datetime') # Set the datetime as the index of the dataframe.\n",
    "df_time_optout.drop(['Week'], axis=1, inplace=True) # Drop the \"Date\" column.\n",
    "df_time_optout.head()"
   ]
  },
  {
   "cell_type": "code",
   "execution_count": 88,
   "id": "49f23675",
   "metadata": {},
   "outputs": [
    {
     "data": {
      "text/plain": [
       "Index(['level_0', 'index', 'Sum of OptOut'], dtype='object')"
      ]
     },
     "execution_count": 88,
     "metadata": {},
     "output_type": "execute_result"
    }
   ],
   "source": [
    "df_time_optout.columns"
   ]
  },
  {
   "cell_type": "code",
   "execution_count": 89,
   "id": "19c1317b",
   "metadata": {},
   "outputs": [],
   "source": [
    "df_time_optout = df_time_optout.drop(columns = ['level_0','index'])"
   ]
  },
  {
   "cell_type": "code",
   "execution_count": 90,
   "id": "ed0c23da",
   "metadata": {},
   "outputs": [
    {
     "data": {
      "text/html": [
       "<div>\n",
       "<style scoped>\n",
       "    .dataframe tbody tr th:only-of-type {\n",
       "        vertical-align: middle;\n",
       "    }\n",
       "\n",
       "    .dataframe tbody tr th {\n",
       "        vertical-align: top;\n",
       "    }\n",
       "\n",
       "    .dataframe thead th {\n",
       "        text-align: right;\n",
       "    }\n",
       "</style>\n",
       "<table border=\"1\" class=\"dataframe\">\n",
       "  <thead>\n",
       "    <tr style=\"text-align: right;\">\n",
       "      <th></th>\n",
       "      <th>Sum of OptOut</th>\n",
       "    </tr>\n",
       "    <tr>\n",
       "      <th>datetime</th>\n",
       "      <th></th>\n",
       "    </tr>\n",
       "  </thead>\n",
       "  <tbody>\n",
       "    <tr>\n",
       "      <th>2021-01-18</th>\n",
       "      <td>0</td>\n",
       "    </tr>\n",
       "    <tr>\n",
       "      <th>2021-01-25</th>\n",
       "      <td>0</td>\n",
       "    </tr>\n",
       "    <tr>\n",
       "      <th>2021-02-01</th>\n",
       "      <td>42</td>\n",
       "    </tr>\n",
       "    <tr>\n",
       "      <th>2021-02-22</th>\n",
       "      <td>42</td>\n",
       "    </tr>\n",
       "    <tr>\n",
       "      <th>2021-03-01</th>\n",
       "      <td>40</td>\n",
       "    </tr>\n",
       "  </tbody>\n",
       "</table>\n",
       "</div>"
      ],
      "text/plain": [
       "            Sum of OptOut\n",
       "datetime                 \n",
       "2021-01-18              0\n",
       "2021-01-25              0\n",
       "2021-02-01             42\n",
       "2021-02-22             42\n",
       "2021-03-01             40"
      ]
     },
     "execution_count": 90,
     "metadata": {},
     "output_type": "execute_result"
    }
   ],
   "source": [
    "df_time_optout.head()"
   ]
  },
  {
   "cell_type": "code",
   "execution_count": 91,
   "id": "86beb999",
   "metadata": {},
   "outputs": [
    {
     "data": {
      "text/plain": [
       "datetime\n",
       "2021-01-25    301\n",
       "2021-03-29    282\n",
       "2021-03-08    281\n",
       "2021-02-22    278\n",
       "2021-03-01    278\n",
       "2021-04-12    276\n",
       "2021-05-10    274\n",
       "2021-05-31    272\n",
       "2021-05-17    272\n",
       "2021-04-19    271\n",
       "2021-04-26    271\n",
       "2021-02-15    270\n",
       "2021-02-08    267\n",
       "2021-03-15    267\n",
       "2021-01-18    264\n",
       "2021-02-01    254\n",
       "2021-05-03    252\n",
       "2021-05-24    248\n",
       "2021-03-22    248\n",
       "dtype: int64"
      ]
     },
     "execution_count": 91,
     "metadata": {},
     "output_type": "execute_result"
    }
   ],
   "source": [
    "df_time_optout.value_counts('datetime')"
   ]
  },
  {
   "cell_type": "code",
   "execution_count": 92,
   "id": "2d4b4f92",
   "metadata": {},
   "outputs": [],
   "source": [
    "df_time_optout = df_time_optout.groupby(['datetime']).sum('Sum of OptOut')"
   ]
  },
  {
   "cell_type": "code",
   "execution_count": 93,
   "id": "43034ab9",
   "metadata": {},
   "outputs": [
    {
     "data": {
      "text/html": [
       "<div>\n",
       "<style scoped>\n",
       "    .dataframe tbody tr th:only-of-type {\n",
       "        vertical-align: middle;\n",
       "    }\n",
       "\n",
       "    .dataframe tbody tr th {\n",
       "        vertical-align: top;\n",
       "    }\n",
       "\n",
       "    .dataframe thead th {\n",
       "        text-align: right;\n",
       "    }\n",
       "</style>\n",
       "<table border=\"1\" class=\"dataframe\">\n",
       "  <thead>\n",
       "    <tr style=\"text-align: right;\">\n",
       "      <th></th>\n",
       "      <th>Sum of OptOut</th>\n",
       "    </tr>\n",
       "    <tr>\n",
       "      <th>datetime</th>\n",
       "      <th></th>\n",
       "    </tr>\n",
       "  </thead>\n",
       "  <tbody>\n",
       "    <tr>\n",
       "      <th>2021-01-18</th>\n",
       "      <td>0</td>\n",
       "    </tr>\n",
       "    <tr>\n",
       "      <th>2021-01-25</th>\n",
       "      <td>45870</td>\n",
       "    </tr>\n",
       "    <tr>\n",
       "      <th>2021-02-01</th>\n",
       "      <td>80500</td>\n",
       "    </tr>\n",
       "    <tr>\n",
       "      <th>2021-02-08</th>\n",
       "      <td>91940</td>\n",
       "    </tr>\n",
       "    <tr>\n",
       "      <th>2021-02-15</th>\n",
       "      <td>103613</td>\n",
       "    </tr>\n",
       "  </tbody>\n",
       "</table>\n",
       "</div>"
      ],
      "text/plain": [
       "            Sum of OptOut\n",
       "datetime                 \n",
       "2021-01-18              0\n",
       "2021-01-25          45870\n",
       "2021-02-01          80500\n",
       "2021-02-08          91940\n",
       "2021-02-15         103613"
      ]
     },
     "execution_count": 93,
     "metadata": {},
     "output_type": "execute_result"
    }
   ],
   "source": [
    "df_time_optout.head()"
   ]
  },
  {
   "cell_type": "code",
   "execution_count": 94,
   "id": "e63858d6",
   "metadata": {},
   "outputs": [
    {
     "data": {
      "text/plain": [
       "datetime\n",
       "2021-01-18    1\n",
       "2021-03-29    1\n",
       "2021-05-24    1\n",
       "2021-05-17    1\n",
       "2021-05-10    1\n",
       "2021-05-03    1\n",
       "2021-04-26    1\n",
       "2021-04-19    1\n",
       "2021-04-12    1\n",
       "2021-03-22    1\n",
       "2021-01-25    1\n",
       "2021-03-15    1\n",
       "2021-03-08    1\n",
       "2021-03-01    1\n",
       "2021-02-22    1\n",
       "2021-02-15    1\n",
       "2021-02-08    1\n",
       "2021-02-01    1\n",
       "2021-05-31    1\n",
       "dtype: int64"
      ]
     },
     "execution_count": 94,
     "metadata": {},
     "output_type": "execute_result"
    }
   ],
   "source": [
    "df_time_optout.value_counts('datetime')"
   ]
  },
  {
   "cell_type": "code",
   "execution_count": 95,
   "id": "d28b7429",
   "metadata": {},
   "outputs": [
    {
     "data": {
      "text/plain": [
       "Sum of OptOut    0\n",
       "dtype: int64"
      ]
     },
     "execution_count": 95,
     "metadata": {},
     "output_type": "execute_result"
    }
   ],
   "source": [
    "# Check for missing values (you shouldn't have any)\n",
    "\n",
    "df_time_optout.isnull().sum() "
   ]
  },
  {
   "cell_type": "code",
   "execution_count": 96,
   "id": "92aa9684",
   "metadata": {},
   "outputs": [
    {
     "data": {
      "text/plain": [
       "0"
      ]
     },
     "execution_count": 96,
     "metadata": {},
     "output_type": "execute_result"
    }
   ],
   "source": [
    "# Check for duplicates\n",
    "\n",
    "dups = df_time_optout.duplicated()\n",
    "dups.sum()"
   ]
  },
  {
   "cell_type": "markdown",
   "id": "4aba136d",
   "metadata": {},
   "source": [
    "## 03. Create line charts"
   ]
  },
  {
   "cell_type": "code",
   "execution_count": 97,
   "id": "1337a629",
   "metadata": {},
   "outputs": [
    {
     "data": {
      "text/plain": [
       "[<matplotlib.lines.Line2D at 0x2742752b550>]"
      ]
     },
     "execution_count": 97,
     "metadata": {},
     "output_type": "execute_result"
    },
    {
     "data": {
      "image/png": "[encoded data removed]",
      "text/plain": [
       "<Figure size 2000x500 with 1 Axes>"
      ]
     },
     "metadata": {},
     "output_type": "display_data"
    }
   ],
   "source": [
    "# Plot df_time_optout\n",
    "\n",
    "plt.figure(figsize=(20,5), dpi=100)\n",
    "plt.plot(df_time_optout)"
   ]
  },
  {
   "cell_type": "markdown",
   "id": "5b1a471b",
   "metadata": {},
   "source": [
    "## 04. Time series analysis: decomposition"
   ]
  },
  {
   "cell_type": "code",
   "execution_count": 103,
   "id": "bec953bc",
   "metadata": {},
   "outputs": [],
   "source": [
    "# Reset index so that you can use the \"Date\" column as a filter\n",
    "\n",
    "decomp = df_time_optout.reset_index()"
   ]
  },
  {
   "cell_type": "code",
   "execution_count": 104,
   "id": "39fd49e8",
   "metadata": {},
   "outputs": [
    {
     "data": {
      "text/html": [
       "<div>\n",
       "<style scoped>\n",
       "    .dataframe tbody tr th:only-of-type {\n",
       "        vertical-align: middle;\n",
       "    }\n",
       "\n",
       "    .dataframe tbody tr th {\n",
       "        vertical-align: top;\n",
       "    }\n",
       "\n",
       "    .dataframe thead th {\n",
       "        text-align: right;\n",
       "    }\n",
       "</style>\n",
       "<table border=\"1\" class=\"dataframe\">\n",
       "  <thead>\n",
       "    <tr style=\"text-align: right;\">\n",
       "      <th></th>\n",
       "      <th>datetime</th>\n",
       "      <th>Sum of OptOut</th>\n",
       "    </tr>\n",
       "  </thead>\n",
       "  <tbody>\n",
       "    <tr>\n",
       "      <th>0</th>\n",
       "      <td>2021-01-18</td>\n",
       "      <td>0</td>\n",
       "    </tr>\n",
       "    <tr>\n",
       "      <th>1</th>\n",
       "      <td>2021-01-25</td>\n",
       "      <td>45870</td>\n",
       "    </tr>\n",
       "    <tr>\n",
       "      <th>2</th>\n",
       "      <td>2021-02-01</td>\n",
       "      <td>80500</td>\n",
       "    </tr>\n",
       "    <tr>\n",
       "      <th>3</th>\n",
       "      <td>2021-02-08</td>\n",
       "      <td>91940</td>\n",
       "    </tr>\n",
       "    <tr>\n",
       "      <th>4</th>\n",
       "      <td>2021-02-15</td>\n",
       "      <td>103613</td>\n",
       "    </tr>\n",
       "  </tbody>\n",
       "</table>\n",
       "</div>"
      ],
      "text/plain": [
       "    datetime  Sum of OptOut\n",
       "0 2021-01-18              0\n",
       "1 2021-01-25          45870\n",
       "2 2021-02-01          80500\n",
       "3 2021-02-08          91940\n",
       "4 2021-02-15         103613"
      ]
     },
     "execution_count": 104,
     "metadata": {},
     "output_type": "execute_result"
    }
   ],
   "source": [
    "decomp.head()"
   ]
  },
  {
   "cell_type": "code",
   "execution_count": 105,
   "id": "b71c13e8",
   "metadata": {},
   "outputs": [],
   "source": [
    "from pylab import rcParams # This will define a fixed size for all special charts.\n",
    "\n",
    "rcParams['figure.figsize'] = 18, 7"
   ]
  },
  {
   "cell_type": "code",
   "execution_count": 106,
   "id": "50fd8d2b",
   "metadata": {},
   "outputs": [
    {
     "ename": "ValueError",
     "evalue": "You must specify a period or x must be a pandas object with a DatetimeIndex with a freq not set to None",
     "output_type": "error",
     "traceback": [
      "\u001b[1;31m---------------------------------------------------------------------------\u001b[0m",
      "\u001b[1;31mValueError\u001b[0m                                Traceback (most recent call last)",
      "\u001b[1;32m<ipython-input-106-3e66022f4323>\u001b[0m in \u001b[0;36m<module>\u001b[1;34m\u001b[0m\n\u001b[0;32m      1\u001b[0m \u001b[1;31m# Decompose the time series using an additive model\u001b[0m\u001b[1;33m\u001b[0m\u001b[1;33m\u001b[0m\u001b[1;33m\u001b[0m\u001b[0m\n\u001b[0;32m      2\u001b[0m \u001b[1;33m\u001b[0m\u001b[0m\n\u001b[1;32m----> 3\u001b[1;33m \u001b[0mdecomp\u001b[0m \u001b[1;33m=\u001b[0m \u001b[0msm\u001b[0m\u001b[1;33m.\u001b[0m\u001b[0mtsa\u001b[0m\u001b[1;33m.\u001b[0m\u001b[0mseasonal_decompose\u001b[0m\u001b[1;33m(\u001b[0m\u001b[0mdf_time_optout\u001b[0m\u001b[1;33m,\u001b[0m \u001b[0mmodel\u001b[0m\u001b[1;33m=\u001b[0m\u001b[1;34m'additive'\u001b[0m\u001b[1;33m)\u001b[0m\u001b[1;33m\u001b[0m\u001b[1;33m\u001b[0m\u001b[0m\n\u001b[0m",
      "\u001b[1;32m~\\anaconda3\\lib\\site-packages\\pandas\\util\\_decorators.py\u001b[0m in \u001b[0;36mwrapper\u001b[1;34m(*args, **kwargs)\u001b[0m\n\u001b[0;32m    197\u001b[0m                 \u001b[1;32melse\u001b[0m\u001b[1;33m:\u001b[0m\u001b[1;33m\u001b[0m\u001b[1;33m\u001b[0m\u001b[0m\n\u001b[0;32m    198\u001b[0m                     \u001b[0mkwargs\u001b[0m\u001b[1;33m[\u001b[0m\u001b[0mnew_arg_name\u001b[0m\u001b[1;33m]\u001b[0m \u001b[1;33m=\u001b[0m \u001b[0mnew_arg_value\u001b[0m\u001b[1;33m\u001b[0m\u001b[1;33m\u001b[0m\u001b[0m\n\u001b[1;32m--> 199\u001b[1;33m             \u001b[1;32mreturn\u001b[0m \u001b[0mfunc\u001b[0m\u001b[1;33m(\u001b[0m\u001b[1;33m*\u001b[0m\u001b[0margs\u001b[0m\u001b[1;33m,\u001b[0m \u001b[1;33m**\u001b[0m\u001b[0mkwargs\u001b[0m\u001b[1;33m)\u001b[0m\u001b[1;33m\u001b[0m\u001b[1;33m\u001b[0m\u001b[0m\n\u001b[0m\u001b[0;32m    200\u001b[0m \u001b[1;33m\u001b[0m\u001b[0m\n\u001b[0;32m    201\u001b[0m         \u001b[1;32mreturn\u001b[0m \u001b[0mcast\u001b[0m\u001b[1;33m(\u001b[0m\u001b[0mF\u001b[0m\u001b[1;33m,\u001b[0m \u001b[0mwrapper\u001b[0m\u001b[1;33m)\u001b[0m\u001b[1;33m\u001b[0m\u001b[1;33m\u001b[0m\u001b[0m\n",
      "\u001b[1;32m~\\anaconda3\\lib\\site-packages\\statsmodels\\tsa\\seasonal.py\u001b[0m in \u001b[0;36mseasonal_decompose\u001b[1;34m(x, model, filt, period, two_sided, extrapolate_trend)\u001b[0m\n\u001b[0;32m    141\u001b[0m             \u001b[0mperiod\u001b[0m \u001b[1;33m=\u001b[0m \u001b[0mpfreq\u001b[0m\u001b[1;33m\u001b[0m\u001b[1;33m\u001b[0m\u001b[0m\n\u001b[0;32m    142\u001b[0m         \u001b[1;32melse\u001b[0m\u001b[1;33m:\u001b[0m\u001b[1;33m\u001b[0m\u001b[1;33m\u001b[0m\u001b[0m\n\u001b[1;32m--> 143\u001b[1;33m             raise ValueError(\"You must specify a period or x must be a \"\n\u001b[0m\u001b[0;32m    144\u001b[0m                              \u001b[1;34m\"pandas object with a DatetimeIndex with \"\u001b[0m\u001b[1;33m\u001b[0m\u001b[1;33m\u001b[0m\u001b[0m\n\u001b[0;32m    145\u001b[0m                              \"a freq not set to None\")\n",
      "\u001b[1;31mValueError\u001b[0m: You must specify a period or x must be a pandas object with a DatetimeIndex with a freq not set to None"
     ]
    }
   ],
   "source": [
    "# Decompose the time series using an additive model\n",
    "\n",
    "decomp = sm.tsa.seasonal_decompose(df_time_optout, model='additive')"
   ]
  },
  {
   "cell_type": "markdown",
   "id": "ed34da30",
   "metadata": {},
   "source": [
    "This data occurs weekly over the course of 5 months so there may not be enough to decompose."
   ]
  },
  {
   "cell_type": "markdown",
   "id": "067c9f82",
   "metadata": {},
   "source": [
    "## 05. Dickey-Fuller test to check for stationarity"
   ]
  },
  {
   "cell_type": "code",
   "execution_count": 70,
   "id": "197c1227",
   "metadata": {},
   "outputs": [
    {
     "name": "stdout",
     "output_type": "stream",
     "text": [
      "Dickey-Fuller Stationarity test:\n",
      "Test Statistic                 -1.141682\n",
      "p-value                         0.698167\n",
      "Number of Lags Used             7.000000\n",
      "Number of Observations Used    11.000000\n",
      "Critical Value (1%)            -4.223238\n",
      "Critical Value (5%)            -3.189369\n",
      "Critical Value (10%)           -2.729839\n",
      "dtype: float64\n"
     ]
    }
   ],
   "source": [
    "# The adfuller() function will import from the model from statsmodels for the test; however, running it will only return \n",
    "# an array of numbers. This is why you need to also define a function that prints the correct output from that array.\n",
    "\n",
    "from statsmodels.tsa.stattools import adfuller # Import the adfuller() function\n",
    "\n",
    "def dickey_fuller(timeseries): # Define the function\n",
    "    # Perform the Dickey-Fuller test:\n",
    "    print ('Dickey-Fuller Stationarity test:')\n",
    "    test = adfuller(timeseries, autolag='AIC')\n",
    "    result = pd.Series(test[0:4], index=['Test Statistic','p-value','Number of Lags Used','Number of Observations Used'])\n",
    "    for key,value in test[4].items():\n",
    "       result['Critical Value (%s)'%key] = value\n",
    "    print (result)\n",
    "\n",
    "# Apply the test using the function on the time series\n",
    "dickey_fuller(df_time_optout['Sum of OptOut'])"
   ]
  },
  {
   "cell_type": "markdown",
   "id": "ff8c25e5",
   "metadata": {},
   "source": [
    "This shows the test static is smaller than the critical value, which means we can reject the null hypothesis."
   ]
  },
  {
   "cell_type": "markdown",
   "id": "071839ef",
   "metadata": {},
   "source": [
    "## 06. Check autocorrelations"
   ]
  },
  {
   "cell_type": "code",
   "execution_count": 71,
   "id": "19170a10",
   "metadata": {},
   "outputs": [
    {
     "data": {
      "image/png": "[encoded data removed]",
      "text/plain": [
       "<Figure size 1296x504 with 1 Axes>"
      ]
     },
     "metadata": {},
     "output_type": "display_data"
    }
   ],
   "source": [
    "from statsmodels.graphics.tsaplots import plot_acf, plot_pacf # Here, you import the autocorrelation and partial correlation plots\n",
    "\n",
    "plot_acf(df_time_optout)\n",
    "plt.show()"
   ]
  },
  {
   "cell_type": "code",
   "execution_count": null,
   "id": "1c12d751",
   "metadata": {},
   "outputs": [],
   "source": []
  }
 ],
 "metadata": {
  "kernelspec": {
   "display_name": "Python 3",
   "language": "python",
   "name": "python3"
  },
  "language_info": {
   "codemirror_mode": {
    "name": "ipython",
    "version": 3
   },
   "file_extension": ".py",
   "mimetype": "text/x-python",
   "name": "python",
   "nbconvert_exporter": "python",
   "pygments_lexer": "ipython3",
   "version": "3.8.8"
  }
 },
 "nbformat": 4,
 "nbformat_minor": 5
}
