{
 "cells": [
  {
   "cell_type": "markdown",
   "id": "1f5d7c58",
   "metadata": {},
   "source": [
    "# WA COVID19 Cases"
   ]
  },
  {
   "cell_type": "markdown",
   "id": "40865a28",
   "metadata": {},
   "source": [
    "## Contents:\n",
    "### 01. Import libraries and data\n",
    "### 02. Explore data\n",
    "### 03. Wrangle data\n",
    "### 04. Export data"
   ]
  },
  {
   "cell_type": "markdown",
   "id": "813505d4",
   "metadata": {},
   "source": [
    "## 01. Import libraries and data"
   ]
  },
  {
   "cell_type": "code",
   "execution_count": 1,
   "id": "fe3f9b1f",
   "metadata": {},
   "outputs": [],
   "source": [
    "# Import libraries\n",
    "\n",
    "import pandas as pd\n",
    "import numpy as np\n",
    "import seaborn as sns\n",
    "import matplotlib.pyplot as plt\n",
    "import matplotlib\n",
    "import os"
   ]
  },
  {
   "cell_type": "code",
   "execution_count": 2,
   "id": "ce6c08c5",
   "metadata": {},
   "outputs": [],
   "source": [
    "# Ensure the charts created are displayed in the notebook without the need to \"call\" them specifically.\n",
    "\n",
    "%matplotlib inline"
   ]
  },
  {
   "cell_type": "code",
   "execution_count": 3,
   "id": "de8f306e",
   "metadata": {},
   "outputs": [],
   "source": [
    "# Create path shortcut\n",
    "\n",
    "path = r'C:\\Users\\lrutl\\OneDrive\\Desktop\\Advanced Analytics & Dashboard Design\\COVID19 School ReOpening and Students'"
   ]
  },
  {
   "cell_type": "code",
   "execution_count": 4,
   "id": "9b653085",
   "metadata": {},
   "outputs": [],
   "source": [
    "# Import data\n",
    "\n",
    "cc = pd.read_csv(os.path.join(path, '02 Data', 'Original data', 'WA_COVID19_Cases_Hospitalizations_Deaths.csv'))"
   ]
  },
  {
   "cell_type": "markdown",
   "id": "14110855",
   "metadata": {},
   "source": [
    "## 02. Explore data"
   ]
  },
  {
   "cell_type": "code",
   "execution_count": 5,
   "id": "0df3b136",
   "metadata": {},
   "outputs": [
    {
     "name": "stdout",
     "output_type": "stream",
     "text": [
      "<class 'pandas.core.frame.DataFrame'>\n",
      "RangeIndex: 769 entries, 0 to 768\n",
      "Data columns (total 16 columns):\n",
      " #   Column            Non-Null Count  Dtype  \n",
      "---  ------            --------------  -----  \n",
      " 0   County            769 non-null    object \n",
      " 1   WeekStartDate     769 non-null    object \n",
      " 2   ProbableCases     769 non-null    int64  \n",
      " 3   ConfirmedCases    769 non-null    int64  \n",
      " 4   7-Day Count       769 non-null    int64  \n",
      " 5   7-Day Average     769 non-null    float64\n",
      " 6   Age 0-19          769 non-null    int64  \n",
      " 7   Age 20-34         769 non-null    int64  \n",
      " 8   Age 35-49         769 non-null    int64  \n",
      " 9   Age 50-64         769 non-null    int64  \n",
      " 10  Age 65-79         769 non-null    int64  \n",
      " 11  Age 80+           769 non-null    int64  \n",
      " 12  UnknownAge        769 non-null    int64  \n",
      " 13  14-Day Count      769 non-null    int64  \n",
      " 14  14-Day Case Rate  749 non-null    float64\n",
      " 15  dtm_updated       769 non-null    object \n",
      "dtypes: float64(2), int64(11), object(3)\n",
      "memory usage: 96.2+ KB\n"
     ]
    }
   ],
   "source": [
    "cc.info()"
   ]
  },
  {
   "cell_type": "code",
   "execution_count": 6,
   "id": "cd3da928",
   "metadata": {},
   "outputs": [
    {
     "data": {
      "text/html": [
       "<div>\n",
       "<style scoped>\n",
       "    .dataframe tbody tr th:only-of-type {\n",
       "        vertical-align: middle;\n",
       "    }\n",
       "\n",
       "    .dataframe tbody tr th {\n",
       "        vertical-align: top;\n",
       "    }\n",
       "\n",
       "    .dataframe thead th {\n",
       "        text-align: right;\n",
       "    }\n",
       "</style>\n",
       "<table border=\"1\" class=\"dataframe\">\n",
       "  <thead>\n",
       "    <tr style=\"text-align: right;\">\n",
       "      <th></th>\n",
       "      <th>County</th>\n",
       "      <th>WeekStartDate</th>\n",
       "      <th>ProbableCases</th>\n",
       "      <th>ConfirmedCases</th>\n",
       "      <th>7-Day Count</th>\n",
       "      <th>7-Day Average</th>\n",
       "      <th>Age 0-19</th>\n",
       "      <th>Age 20-34</th>\n",
       "      <th>Age 35-49</th>\n",
       "      <th>Age 50-64</th>\n",
       "      <th>Age 65-79</th>\n",
       "      <th>Age 80+</th>\n",
       "      <th>UnknownAge</th>\n",
       "      <th>14-Day Count</th>\n",
       "      <th>14-Day Case Rate</th>\n",
       "      <th>dtm_updated</th>\n",
       "    </tr>\n",
       "  </thead>\n",
       "  <tbody>\n",
       "    <tr>\n",
       "      <th>0</th>\n",
       "      <td>Adams</td>\n",
       "      <td>5/31/2021</td>\n",
       "      <td>0</td>\n",
       "      <td>7</td>\n",
       "      <td>7</td>\n",
       "      <td>1.00</td>\n",
       "      <td>3</td>\n",
       "      <td>1</td>\n",
       "      <td>2</td>\n",
       "      <td>0</td>\n",
       "      <td>1</td>\n",
       "      <td>0</td>\n",
       "      <td>0</td>\n",
       "      <td>21</td>\n",
       "      <td>102.69</td>\n",
       "      <td>8/16/2021 11:26</td>\n",
       "    </tr>\n",
       "    <tr>\n",
       "      <th>1</th>\n",
       "      <td>Asotin</td>\n",
       "      <td>5/31/2021</td>\n",
       "      <td>0</td>\n",
       "      <td>2</td>\n",
       "      <td>2</td>\n",
       "      <td>0.29</td>\n",
       "      <td>0</td>\n",
       "      <td>0</td>\n",
       "      <td>0</td>\n",
       "      <td>1</td>\n",
       "      <td>1</td>\n",
       "      <td>0</td>\n",
       "      <td>0</td>\n",
       "      <td>11</td>\n",
       "      <td>48.59</td>\n",
       "      <td>8/16/2021 11:26</td>\n",
       "    </tr>\n",
       "    <tr>\n",
       "      <th>2</th>\n",
       "      <td>Benton</td>\n",
       "      <td>5/31/2021</td>\n",
       "      <td>6</td>\n",
       "      <td>136</td>\n",
       "      <td>142</td>\n",
       "      <td>20.29</td>\n",
       "      <td>36</td>\n",
       "      <td>45</td>\n",
       "      <td>25</td>\n",
       "      <td>21</td>\n",
       "      <td>15</td>\n",
       "      <td>0</td>\n",
       "      <td>0</td>\n",
       "      <td>271</td>\n",
       "      <td>131.75</td>\n",
       "      <td>8/16/2021 11:26</td>\n",
       "    </tr>\n",
       "    <tr>\n",
       "      <th>3</th>\n",
       "      <td>Chelan</td>\n",
       "      <td>5/31/2021</td>\n",
       "      <td>21</td>\n",
       "      <td>9</td>\n",
       "      <td>30</td>\n",
       "      <td>4.29</td>\n",
       "      <td>5</td>\n",
       "      <td>14</td>\n",
       "      <td>4</td>\n",
       "      <td>2</td>\n",
       "      <td>2</td>\n",
       "      <td>3</td>\n",
       "      <td>0</td>\n",
       "      <td>63</td>\n",
       "      <td>79.09</td>\n",
       "      <td>8/16/2021 11:26</td>\n",
       "    </tr>\n",
       "    <tr>\n",
       "      <th>4</th>\n",
       "      <td>Clallam</td>\n",
       "      <td>5/31/2021</td>\n",
       "      <td>4</td>\n",
       "      <td>13</td>\n",
       "      <td>17</td>\n",
       "      <td>2.43</td>\n",
       "      <td>0</td>\n",
       "      <td>4</td>\n",
       "      <td>6</td>\n",
       "      <td>3</td>\n",
       "      <td>1</td>\n",
       "      <td>3</td>\n",
       "      <td>0</td>\n",
       "      <td>55</td>\n",
       "      <td>71.64</td>\n",
       "      <td>8/16/2021 11:26</td>\n",
       "    </tr>\n",
       "  </tbody>\n",
       "</table>\n",
       "</div>"
      ],
      "text/plain": [
       "    County WeekStartDate  ProbableCases  ConfirmedCases  7-Day Count  \\\n",
       "0    Adams     5/31/2021              0               7            7   \n",
       "1   Asotin     5/31/2021              0               2            2   \n",
       "2   Benton     5/31/2021              6             136          142   \n",
       "3   Chelan     5/31/2021             21               9           30   \n",
       "4  Clallam     5/31/2021              4              13           17   \n",
       "\n",
       "   7-Day Average  Age 0-19  Age 20-34  Age 35-49  Age 50-64  Age 65-79  \\\n",
       "0           1.00         3          1          2          0          1   \n",
       "1           0.29         0          0          0          1          1   \n",
       "2          20.29        36         45         25         21         15   \n",
       "3           4.29         5         14          4          2          2   \n",
       "4           2.43         0          4          6          3          1   \n",
       "\n",
       "   Age 80+  UnknownAge  14-Day Count  14-Day Case Rate      dtm_updated  \n",
       "0        0           0            21            102.69  8/16/2021 11:26  \n",
       "1        0           0            11             48.59  8/16/2021 11:26  \n",
       "2        0           0           271            131.75  8/16/2021 11:26  \n",
       "3        3           0            63             79.09  8/16/2021 11:26  \n",
       "4        3           0            55             71.64  8/16/2021 11:26  "
      ]
     },
     "execution_count": 6,
     "metadata": {},
     "output_type": "execute_result"
    }
   ],
   "source": [
    "cc.head()"
   ]
  },
  {
   "cell_type": "code",
   "execution_count": 7,
   "id": "ce96b7c3",
   "metadata": {},
   "outputs": [
    {
     "data": {
      "text/plain": [
       "(769, 16)"
      ]
     },
     "execution_count": 7,
     "metadata": {},
     "output_type": "execute_result"
    }
   ],
   "source": [
    "cc.shape"
   ]
  },
  {
   "cell_type": "markdown",
   "id": "01ec70f1",
   "metadata": {},
   "source": [
    "## 03. Wrangle data"
   ]
  },
  {
   "cell_type": "code",
   "execution_count": 26,
   "id": "91a72232",
   "metadata": {
    "scrolled": true
   },
   "outputs": [
    {
     "data": {
      "text/plain": [
       "County\n",
       "Adams           20\n",
       "Klickitat       20\n",
       "Lincoln         20\n",
       "Mason           20\n",
       "Okanogan        20\n",
       "Pacific         20\n",
       "Pend Oreille    20\n",
       "Pierce          20\n",
       "Skagit          20\n",
       "Snohomish       20\n",
       "Spokane         20\n",
       "Stevens         20\n",
       "Thurston        20\n",
       "Unassigned      20\n",
       "Walla Walla     20\n",
       "Whatcom         20\n",
       "Whitman         20\n",
       "Asotin          20\n",
       "Lewis           20\n",
       "Kittitas        20\n",
       "Kitsap          20\n",
       "Benton          20\n",
       "Chelan          20\n",
       "Clallam         20\n",
       "Clark           20\n",
       "Cowlitz         20\n",
       "Douglas         20\n",
       "Ferry           20\n",
       "Yakima          20\n",
       "Franklin        20\n",
       "Grant           20\n",
       "Grays Harbor    20\n",
       "Island          20\n",
       "King            20\n",
       "Skamania        19\n",
       "San Juan        17\n",
       "Jefferson       17\n",
       "Wahkiakum       15\n",
       "Garfield        13\n",
       "Columbia         8\n",
       "dtype: int64"
      ]
     },
     "execution_count": 26,
     "metadata": {},
     "output_type": "execute_result"
    }
   ],
   "source": [
    "# Check Counties\n",
    "\n",
    "cc.value_counts('County')"
   ]
  },
  {
   "cell_type": "code",
   "execution_count": 27,
   "id": "43b8a114",
   "metadata": {},
   "outputs": [],
   "source": [
    "# Remove Unassigned County rows\n",
    "\n",
    "cc = cc[cc['County'] != 'Unassigned']"
   ]
  },
  {
   "cell_type": "code",
   "execution_count": 28,
   "id": "e7090705",
   "metadata": {},
   "outputs": [
    {
     "data": {
      "text/plain": [
       "County\n",
       "Adams           20\n",
       "Kittitas        20\n",
       "Lewis           20\n",
       "Lincoln         20\n",
       "Mason           20\n",
       "Okanogan        20\n",
       "Pacific         20\n",
       "Pend Oreille    20\n",
       "Pierce          20\n",
       "Skagit          20\n",
       "Snohomish       20\n",
       "Spokane         20\n",
       "Stevens         20\n",
       "Thurston        20\n",
       "Walla Walla     20\n",
       "Whatcom         20\n",
       "Whitman         20\n",
       "Asotin          20\n",
       "Klickitat       20\n",
       "Kitsap          20\n",
       "Ferry           20\n",
       "Benton          20\n",
       "Chelan          20\n",
       "Clallam         20\n",
       "Clark           20\n",
       "Cowlitz         20\n",
       "Douglas         20\n",
       "King            20\n",
       "Yakima          20\n",
       "Franklin        20\n",
       "Grant           20\n",
       "Grays Harbor    20\n",
       "Island          20\n",
       "Skamania        19\n",
       "San Juan        17\n",
       "Jefferson       17\n",
       "Wahkiakum       15\n",
       "Garfield        13\n",
       "Columbia         8\n",
       "dtype: int64"
      ]
     },
     "execution_count": 28,
     "metadata": {},
     "output_type": "execute_result"
    }
   ],
   "source": [
    "# Check rows were removed\n",
    "\n",
    "cc.value_counts('County')"
   ]
  },
  {
   "cell_type": "code",
   "execution_count": 29,
   "id": "f3a50d81",
   "metadata": {},
   "outputs": [],
   "source": [
    "# Drop columns not needed in analysis\n",
    "\n",
    "cc = cc.drop(columns = ['dtm_updated'])"
   ]
  },
  {
   "cell_type": "code",
   "execution_count": 30,
   "id": "f10cb441",
   "metadata": {},
   "outputs": [
    {
     "data": {
      "text/html": [
       "<div>\n",
       "<style scoped>\n",
       "    .dataframe tbody tr th:only-of-type {\n",
       "        vertical-align: middle;\n",
       "    }\n",
       "\n",
       "    .dataframe tbody tr th {\n",
       "        vertical-align: top;\n",
       "    }\n",
       "\n",
       "    .dataframe thead th {\n",
       "        text-align: right;\n",
       "    }\n",
       "</style>\n",
       "<table border=\"1\" class=\"dataframe\">\n",
       "  <thead>\n",
       "    <tr style=\"text-align: right;\">\n",
       "      <th></th>\n",
       "      <th>County</th>\n",
       "      <th>WeekStartDate</th>\n",
       "      <th>ProbableCases</th>\n",
       "      <th>ConfirmedCases</th>\n",
       "      <th>7-Day Count</th>\n",
       "      <th>7-Day Average</th>\n",
       "      <th>Age 0-19</th>\n",
       "      <th>Age 20-34</th>\n",
       "      <th>Age 35-49</th>\n",
       "      <th>Age 50-64</th>\n",
       "      <th>Age 65-79</th>\n",
       "      <th>Age 80+</th>\n",
       "      <th>UnknownAge</th>\n",
       "      <th>14-Day Count</th>\n",
       "      <th>14-Day Case Rate</th>\n",
       "    </tr>\n",
       "  </thead>\n",
       "  <tbody>\n",
       "    <tr>\n",
       "      <th>0</th>\n",
       "      <td>Adams</td>\n",
       "      <td>5/31/2021</td>\n",
       "      <td>0</td>\n",
       "      <td>7</td>\n",
       "      <td>7</td>\n",
       "      <td>1.00</td>\n",
       "      <td>3</td>\n",
       "      <td>1</td>\n",
       "      <td>2</td>\n",
       "      <td>0</td>\n",
       "      <td>1</td>\n",
       "      <td>0</td>\n",
       "      <td>0</td>\n",
       "      <td>21</td>\n",
       "      <td>102.69</td>\n",
       "    </tr>\n",
       "    <tr>\n",
       "      <th>1</th>\n",
       "      <td>Asotin</td>\n",
       "      <td>5/31/2021</td>\n",
       "      <td>0</td>\n",
       "      <td>2</td>\n",
       "      <td>2</td>\n",
       "      <td>0.29</td>\n",
       "      <td>0</td>\n",
       "      <td>0</td>\n",
       "      <td>0</td>\n",
       "      <td>1</td>\n",
       "      <td>1</td>\n",
       "      <td>0</td>\n",
       "      <td>0</td>\n",
       "      <td>11</td>\n",
       "      <td>48.59</td>\n",
       "    </tr>\n",
       "    <tr>\n",
       "      <th>2</th>\n",
       "      <td>Benton</td>\n",
       "      <td>5/31/2021</td>\n",
       "      <td>6</td>\n",
       "      <td>136</td>\n",
       "      <td>142</td>\n",
       "      <td>20.29</td>\n",
       "      <td>36</td>\n",
       "      <td>45</td>\n",
       "      <td>25</td>\n",
       "      <td>21</td>\n",
       "      <td>15</td>\n",
       "      <td>0</td>\n",
       "      <td>0</td>\n",
       "      <td>271</td>\n",
       "      <td>131.75</td>\n",
       "    </tr>\n",
       "    <tr>\n",
       "      <th>3</th>\n",
       "      <td>Chelan</td>\n",
       "      <td>5/31/2021</td>\n",
       "      <td>21</td>\n",
       "      <td>9</td>\n",
       "      <td>30</td>\n",
       "      <td>4.29</td>\n",
       "      <td>5</td>\n",
       "      <td>14</td>\n",
       "      <td>4</td>\n",
       "      <td>2</td>\n",
       "      <td>2</td>\n",
       "      <td>3</td>\n",
       "      <td>0</td>\n",
       "      <td>63</td>\n",
       "      <td>79.09</td>\n",
       "    </tr>\n",
       "    <tr>\n",
       "      <th>4</th>\n",
       "      <td>Clallam</td>\n",
       "      <td>5/31/2021</td>\n",
       "      <td>4</td>\n",
       "      <td>13</td>\n",
       "      <td>17</td>\n",
       "      <td>2.43</td>\n",
       "      <td>0</td>\n",
       "      <td>4</td>\n",
       "      <td>6</td>\n",
       "      <td>3</td>\n",
       "      <td>1</td>\n",
       "      <td>3</td>\n",
       "      <td>0</td>\n",
       "      <td>55</td>\n",
       "      <td>71.64</td>\n",
       "    </tr>\n",
       "  </tbody>\n",
       "</table>\n",
       "</div>"
      ],
      "text/plain": [
       "    County WeekStartDate  ProbableCases  ConfirmedCases  7-Day Count  \\\n",
       "0    Adams     5/31/2021              0               7            7   \n",
       "1   Asotin     5/31/2021              0               2            2   \n",
       "2   Benton     5/31/2021              6             136          142   \n",
       "3   Chelan     5/31/2021             21               9           30   \n",
       "4  Clallam     5/31/2021              4              13           17   \n",
       "\n",
       "   7-Day Average  Age 0-19  Age 20-34  Age 35-49  Age 50-64  Age 65-79  \\\n",
       "0           1.00         3          1          2          0          1   \n",
       "1           0.29         0          0          0          1          1   \n",
       "2          20.29        36         45         25         21         15   \n",
       "3           4.29         5         14          4          2          2   \n",
       "4           2.43         0          4          6          3          1   \n",
       "\n",
       "   Age 80+  UnknownAge  14-Day Count  14-Day Case Rate  \n",
       "0        0           0            21            102.69  \n",
       "1        0           0            11             48.59  \n",
       "2        0           0           271            131.75  \n",
       "3        3           0            63             79.09  \n",
       "4        3           0            55             71.64  "
      ]
     },
     "execution_count": 30,
     "metadata": {},
     "output_type": "execute_result"
    }
   ],
   "source": [
    "cc.head()"
   ]
  },
  {
   "cell_type": "markdown",
   "id": "4d39333e",
   "metadata": {},
   "source": [
    "## 04. Export data"
   ]
  },
  {
   "cell_type": "code",
   "execution_count": 31,
   "id": "ca71189a",
   "metadata": {},
   "outputs": [],
   "source": [
    "# Export data as csv file\n",
    "\n",
    "cc.to_csv(os.path.join(path,'02 Data','Prepared data','WA_COVID19_Cases_Hospitalizations_Deaths - clean.csv'))"
   ]
  },
  {
   "cell_type": "code",
   "execution_count": null,
   "id": "8ebf49d4",
   "metadata": {},
   "outputs": [],
   "source": []
  }
 ],
 "metadata": {
  "kernelspec": {
   "display_name": "Python 3",
   "language": "python",
   "name": "python3"
  },
  "language_info": {
   "codemirror_mode": {
    "name": "ipython",
    "version": 3
   },
   "file_extension": ".py",
   "mimetype": "text/x-python",
   "name": "python",
   "nbconvert_exporter": "python",
   "pygments_lexer": "ipython3",
   "version": "3.8.8"
  }
 },
 "nbformat": 4,
 "nbformat_minor": 5
}
